{
 "cells": [
  {
   "cell_type": "code",
   "execution_count": 3,
   "metadata": {},
   "outputs": [
    {
     "name": "stdout",
     "output_type": "stream",
     "text": [
      "Requirement already satisfied: pycountry in c:\\users\\jake.stanger\\appdata\\local\\anaconda3\\lib\\site-packages (24.6.1)\n"
     ]
    }
   ],
   "source": [
    "!pip install pycountry"
   ]
  },
  {
   "cell_type": "code",
   "execution_count": 4,
   "metadata": {},
   "outputs": [],
   "source": [
    "import pandas as pd\n",
    "import numpy as np\n",
    "import pycountry    # finding country names\n",
    "import difflib      # quanitfying string differences"
   ]
  },
  {
   "cell_type": "code",
   "execution_count": 5,
   "metadata": {},
   "outputs": [],
   "source": [
    "# Function to create new columns for difference, percent change, and percentage makeup\n",
    "def add_difference_and_percent(df, col1, col2):\n",
    "    # Calculate the difference\n",
    "    diff_col_name = f'{col1}_minus_{col2}'\n",
    "    df[diff_col_name] = df[col1] - df[col2]\n",
    "    \n",
    "    # Calculate the percent change\n",
    "    pct_change_col_name = f'{col1}_pct_change_{col2}'\n",
    "    df[pct_change_col_name] = (df[col1] - df[col2]) / df[col2] * 100\n",
    "\n",
    "\n",
    "    # Calculate the percent of previous\n",
    "    # pct_prev_col_name = f'{col1}_pct_previous_{col2}'\n",
    "    # df[pct_prev_col_name] = df[col1] / df[col2] * 100\n",
    "    \n",
    "    return df"
   ]
  },
  {
   "cell_type": "code",
   "execution_count": 6,
   "metadata": {},
   "outputs": [],
   "source": [
    "# Function to get the closest ISO3 code from a country name\n",
    "def get_closest_iso3_code(country_name):\n",
    "\n",
    "    if isinstance(country_name, str):\n",
    "\n",
    "        country_names = [country.name for country in pycountry.countries]                       # gets all possible country names\n",
    "        closest_match = difflib.get_close_matches(country_name, country_names, n=1, cutoff=0.76) # finds the closest match that matches ninety pct\n",
    "        if closest_match:\n",
    "            country = pycountry.countries.get(name=closest_match[0])\n",
    "            return country.alpha_3                                                              # return the closest match's iso code\n",
    "        \n",
    "    return None"
   ]
  },
  {
   "cell_type": "code",
   "execution_count": 15,
   "metadata": {},
   "outputs": [],
   "source": [
    "volumes = pd.read_csv(\"./data/country_percent_scale_080124.csv\")    # read in volumes of production in 2023\n",
    "volumes = volumes.set_index('iso3_country')"
   ]
  },
  {
   "cell_type": "code",
   "execution_count": 10,
   "metadata": {},
   "outputs": [],
   "source": [
    "new_prod_in = pd.read_csv(\"./data/country-climate-trace_oil-and-gas-production_100724.csv\")\n",
    "new_trans_in = pd.read_csv(\"./data/country-climate-trace_oil-and-gas-transport_100724.csv\")\n",
    "\n",
    "new_prod_in.dropna(subset=['start_date'], inplace=True)\n",
    "new_prod = new_prod_in[\n",
    "    new_prod_in['start_date'].str.contains('2023')\n",
    "]\n",
    "new_prod = new_prod[\n",
    "    new_prod['end_date'].str.contains('2023')\n",
    "]\n",
    "\n",
    "new_trans_in.dropna(subset=['start_date'], inplace=True)\n",
    "new_trans = new_trans_in[\n",
    "    new_trans_in['start_date'].str.contains('2023')\n",
    "]\n",
    "new_trans = new_trans[\n",
    "    new_trans['end_date'].str.contains('2023')\n",
    "]"
   ]
  },
  {
   "cell_type": "code",
   "execution_count": 11,
   "metadata": {},
   "outputs": [],
   "source": [
    "# Join dataframes\n",
    "new_joined = new_prod.join(\n",
    "    new_trans, how='outer',\n",
    "    lsuffix='_prod',rsuffix='_trans')\n",
    "\n",
    "new_joined.reset_index(inplace=True)\n",
    "\n",
    "new_joined['CO2_total'] = new_joined['CO2_emissions_tonnes_prod'] + new_joined['CO2_emissions_tonnes_trans']\n",
    "new_joined['CH4_total'] = new_joined['CH4_emissions_tonnes_prod'] + new_joined['CH4_emissions_tonnes_trans']\n",
    "\n",
    "new_joined = new_joined.drop(\n",
    "    columns={\n",
    "        'index','N2O_emissions_tonnes_prod','N2O_emissions_tonnes_trans',\n",
    "        'start_date_prod','end_date_prod','iso3_country_trans',\n",
    "        'start_date_trans','end_date_trans'\n",
    "    })\n",
    "new_joined = new_joined.rename(columns={'iso3_country_prod':'iso3_country'})\n",
    "\n",
    "new_joined = new_joined.set_index('iso3_country')"
   ]
  },
  {
   "cell_type": "code",
   "execution_count": 12,
   "metadata": {},
   "outputs": [],
   "source": [
    "version4 = pd.read_csv(\"./data/all_fields_transposed.csv\")\n",
    "version4 = version4.drop_duplicates()\n",
    "version4['iso3_country'] = version4['country'].apply(\n",
    "    get_closest_iso3_code)"
   ]
  },
  {
   "cell_type": "code",
   "execution_count": 13,
   "metadata": {},
   "outputs": [],
   "source": [
    "country4 = version4[[\n",
    "    'iso3_country',\n",
    "    'upstream_co2_tonnes_per_year','transport_co2_tonnes_per_year',\n",
    "    'upstream_ch4_tonnes_per_year','transport_ch4_tonnes_per_year',\n",
    "    'upstream_100_co2e_tonnes_per_year','transport_100_co2e_tonnes_per_year',\n",
    "    'upstream_20_co2e_tonnes_per_year','transport_20_co2e_tonnes_per_year'\n",
    "]].groupby('iso3_country').sum()\n",
    "\n",
    "country4 = country4.rename(columns={\n",
    "    'upstream_co2_tonnes_per_year': 'CO2_emissions_tonnes_prod',\n",
    "    'transport_co2_tonnes_per_year': 'CO2_emissions_tonnes_trans',\n",
    "    'upstream_ch4_tonnes_per_year': 'CH4_emissions_tonnes_prod',\n",
    "    'transport_ch4_tonnes_per_year': 'CH4_emissions_tonnes_trans',\n",
    "    'upstream_100_co2e_tonnes_per_year': 'total_CO2e_100yrGWP_prod',\n",
    "    'transport_100_co2e_tonnes_per_year': 'total_CO2e_100yrGWP_trans',\n",
    "    'upstream_20_co2e_tonnes_per_year': 'total_CO2e_20yrGWP_prod',\n",
    "    'transport_20_co2e_tonnes_per_year': 'total_CO2e_20yrGWP_trans',\n",
    "})\n",
    "\n",
    "country4['CO2_total'] = country4['CO2_emissions_tonnes_prod'] + country4['CO2_emissions_tonnes_trans']\n",
    "country4['CH4_total'] = country4['CH4_emissions_tonnes_prod'] + country4['CH4_emissions_tonnes_trans']\n"
   ]
  },
  {
   "cell_type": "code",
   "execution_count": 16,
   "metadata": {},
   "outputs": [],
   "source": [
    "\n",
    "merged = volumes.join(new_joined,how='outer').join(\n",
    "    country4,how='outer',lsuffix='_new',rsuffix='_v4g'\n",
    ")\n",
    "merged = merged.fillna(0)\n",
    "merged = merged.reset_index()\n",
    "\n",
    "world_row = pd.DataFrame([merged.sum()],columns=merged.columns)\n",
    "world_row['iso3_country'] = 'World'\n",
    "merged = pd.concat([merged,world_row], ignore_index=True)"
   ]
  },
  {
   "cell_type": "code",
   "execution_count": 17,
   "metadata": {},
   "outputs": [],
   "source": [
    "out_table = merged\n",
    "\n",
    "out_table = add_difference_and_percent(out_table,'CO2_emissions_tonnes_prod_v4g','CO2_emissions_tonnes_prod_new')\n",
    "out_table = add_difference_and_percent(out_table,'CO2_emissions_tonnes_trans_v4g','CO2_emissions_tonnes_trans_new')\n",
    "out_table = add_difference_and_percent(out_table,'CH4_emissions_tonnes_prod_v4g','CH4_emissions_tonnes_prod_new')\n",
    "out_table = add_difference_and_percent(out_table,'CH4_emissions_tonnes_trans_v4g','CH4_emissions_tonnes_trans_new')\n",
    "out_table = add_difference_and_percent(out_table,'CO2_total_v4g','CO2_total_new')\n",
    "out_table = add_difference_and_percent(out_table,'CH4_total_v4g','CH4_total_new')\n",
    "out_table = add_difference_and_percent(out_table,'total_CO2e_100yrGWP_prod_v4g','total_CO2e_100yrGWP_prod_new')\n",
    "out_table = add_difference_and_percent(out_table,'total_CO2e_20yrGWP_prod_v4g','total_CO2e_20yrGWP_prod_new')\n",
    "out_table = add_difference_and_percent(out_table,'total_CO2e_100yrGWP_trans_v4g','total_CO2e_100yrGWP_trans_new')\n",
    "out_table = add_difference_and_percent(out_table,'total_CO2e_20yrGWP_trans_v4g','total_CO2e_20yrGWP_trans_new')"
   ]
  },
  {
   "cell_type": "code",
   "execution_count": 18,
   "metadata": {},
   "outputs": [],
   "source": [
    "out_table.to_csv('./data/new_method_&_v4_100924.csv',index=False) # write csv of this"
   ]
  },
  {
   "cell_type": "code",
   "execution_count": 88,
   "metadata": {},
   "outputs": [
    {
     "data": {
      "text/plain": [
       "594193.2838468128"
      ]
     },
     "execution_count": 88,
     "metadata": {},
     "output_type": "execute_result"
    }
   ],
   "source": [
    "version4[version4['country']=='Mozambique']['upstream_co2_tonnes_per_year'].sum()"
   ]
  },
  {
   "cell_type": "code",
   "execution_count": 89,
   "metadata": {},
   "outputs": [
    {
     "data": {
      "text/html": [
       "<div>\n",
       "<style scoped>\n",
       "    .dataframe tbody tr th:only-of-type {\n",
       "        vertical-align: middle;\n",
       "    }\n",
       "\n",
       "    .dataframe tbody tr th {\n",
       "        vertical-align: top;\n",
       "    }\n",
       "\n",
       "    .dataframe thead th {\n",
       "        text-align: right;\n",
       "    }\n",
       "</style>\n",
       "<table border=\"1\" class=\"dataframe\">\n",
       "  <thead>\n",
       "    <tr style=\"text-align: right;\">\n",
       "      <th></th>\n",
       "      <th>iso3_country</th>\n",
       "      <th>CO2_emissions_tonnes_prod</th>\n",
       "      <th>CO2_emissions_tonnes_trans</th>\n",
       "      <th>CH4_emissions_tonnes_prod</th>\n",
       "      <th>CH4_emissions_tonnes_trans</th>\n",
       "      <th>total_CO2e_100yrGWP_prod</th>\n",
       "      <th>total_CO2e_100yrGWP_trans</th>\n",
       "      <th>total_CO2e_20yrGWP_prod</th>\n",
       "      <th>total_CO2e_20yrGWP_trans</th>\n",
       "      <th>CO2_total</th>\n",
       "      <th>CH4_total</th>\n",
       "    </tr>\n",
       "  </thead>\n",
       "  <tbody>\n",
       "  </tbody>\n",
       "</table>\n",
       "</div>"
      ],
      "text/plain": [
       "Empty DataFrame\n",
       "Columns: [iso3_country, CO2_emissions_tonnes_prod, CO2_emissions_tonnes_trans, CH4_emissions_tonnes_prod, CH4_emissions_tonnes_trans, total_CO2e_100yrGWP_prod, total_CO2e_100yrGWP_trans, total_CO2e_20yrGWP_prod, total_CO2e_20yrGWP_trans, CO2_total, CH4_total]\n",
       "Index: []"
      ]
     },
     "execution_count": 89,
     "metadata": {},
     "output_type": "execute_result"
    }
   ],
   "source": [
    "test = country4.reset_index()\n",
    "test[test['iso3_country']=='TZA']"
   ]
  },
  {
   "cell_type": "code",
   "execution_count": 90,
   "metadata": {},
   "outputs": [
    {
     "data": {
      "text/html": [
       "<div>\n",
       "<style scoped>\n",
       "    .dataframe tbody tr th:only-of-type {\n",
       "        vertical-align: middle;\n",
       "    }\n",
       "\n",
       "    .dataframe tbody tr th {\n",
       "        vertical-align: top;\n",
       "    }\n",
       "\n",
       "    .dataframe thead th {\n",
       "        text-align: right;\n",
       "    }\n",
       "</style>\n",
       "<table border=\"1\" class=\"dataframe\">\n",
       "  <thead>\n",
       "    <tr style=\"text-align: right;\">\n",
       "      <th></th>\n",
       "      <th>iso3_country</th>\n",
       "      <th>start_date</th>\n",
       "      <th>end_date</th>\n",
       "      <th>CO2_emissions_tonnes</th>\n",
       "      <th>CH4_emissions_tonnes</th>\n",
       "      <th>N2O_emissions_tonnes</th>\n",
       "      <th>total_CO2e_100yrGWP</th>\n",
       "      <th>total_CO2e_20yrGWP</th>\n",
       "    </tr>\n",
       "  </thead>\n",
       "  <tbody>\n",
       "    <tr>\n",
       "      <th>633</th>\n",
       "      <td>MOZ</td>\n",
       "      <td>2023-01-01</td>\n",
       "      <td>2023-12-31</td>\n",
       "      <td>508785.071598</td>\n",
       "      <td>35313.986661</td>\n",
       "      <td>0.0</td>\n",
       "      <td>1.561142e+06</td>\n",
       "      <td>3.422189e+06</td>\n",
       "    </tr>\n",
       "  </tbody>\n",
       "</table>\n",
       "</div>"
      ],
      "text/plain": [
       "    iso3_country  start_date    end_date  CO2_emissions_tonnes  \\\n",
       "633          MOZ  2023-01-01  2023-12-31         508785.071598   \n",
       "\n",
       "     CH4_emissions_tonnes  N2O_emissions_tonnes  total_CO2e_100yrGWP  \\\n",
       "633          35313.986661                   0.0         1.561142e+06   \n",
       "\n",
       "     total_CO2e_20yrGWP  \n",
       "633        3.422189e+06  "
      ]
     },
     "execution_count": 90,
     "metadata": {},
     "output_type": "execute_result"
    }
   ],
   "source": [
    "new_prod[new_prod['iso3_country']=='MOZ']"
   ]
  },
  {
   "cell_type": "code",
   "execution_count": null,
   "metadata": {},
   "outputs": [],
   "source": []
  }
 ],
 "metadata": {
  "kernelspec": {
   "display_name": "base",
   "language": "python",
   "name": "python3"
  },
  "language_info": {
   "codemirror_mode": {
    "name": "ipython",
    "version": 3
   },
   "file_extension": ".py",
   "mimetype": "text/x-python",
   "name": "python",
   "nbconvert_exporter": "python",
   "pygments_lexer": "ipython3",
   "version": "3.12.4"
  }
 },
 "nbformat": 4,
 "nbformat_minor": 2
}
