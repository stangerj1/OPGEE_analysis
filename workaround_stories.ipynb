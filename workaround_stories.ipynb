{
 "cells": [
  {
   "cell_type": "code",
   "execution_count": 1,
   "metadata": {},
   "outputs": [],
   "source": [
    "import pandas as pd\n",
    "import numpy as np\n",
    "\n",
    "# plotting not yet supported\n",
    "from cartopy import crs as ccrs, feature as cfeature \n",
    "import cartopy.io.shapereader as shpreader\n",
    "import matplotlib.pyplot as plt"
   ]
  },
  {
   "cell_type": "code",
   "execution_count": null,
   "metadata": {},
   "outputs": [],
   "source": [
    "prod_vol = pd.read_csv(\"./data/upstream_weekly-field_annual_production_kbd_2015-2023.csv\")"
   ]
  },
  {
   "cell_type": "code",
   "execution_count": 2,
   "metadata": {},
   "outputs": [],
   "source": [
    "new_prod_in = pd.read_csv(\"./data/country-climate-trace_oil-and-gas-production_100724.csv\")\n",
    "new_trans_in = pd.read_csv(\"./data/country-climate-trace_oil-and-gas-transport_100724.csv\")"
   ]
  },
  {
   "cell_type": "code",
   "execution_count": null,
   "metadata": {},
   "outputs": [],
   "source": [
    "trace22_in = pd.read_csv(\"./data/oil-and-gas-production-and-transport_country_emissions.csv\") "
   ]
  },
  {
   "cell_type": "code",
   "execution_count": 12,
   "metadata": {},
   "outputs": [],
   "source": [
    "new_prod_in.dropna(subset=['start_date'], inplace=True)\n",
    "new_prod = new_prod_in[\n",
    "    new_prod_in['start_date'].str.contains('2023|2022')\n",
    "]\n",
    "new_prod = new_prod[\n",
    "    new_prod['end_date'].str.contains('2023|2022')\n",
    "]\n",
    "\n",
    "new_trans_in.dropna(subset=['start_date'], inplace=True)\n",
    "new_trans = new_trans_in[\n",
    "    new_trans_in['start_date'].str.contains('2023|2022')\n",
    "]\n",
    "new_trans = new_trans[\n",
    "    new_trans['end_date'].str.contains('2023|2022')\n",
    "]"
   ]
  },
  {
   "cell_type": "code",
   "execution_count": null,
   "metadata": {},
   "outputs": [],
   "source": [
    "()"
   ]
  },
  {
   "cell_type": "code",
   "execution_count": 25,
   "metadata": {},
   "outputs": [
    {
     "data": {
      "text/html": [
       "<div>\n",
       "<style scoped>\n",
       "    .dataframe tbody tr th:only-of-type {\n",
       "        vertical-align: middle;\n",
       "    }\n",
       "\n",
       "    .dataframe tbody tr th {\n",
       "        vertical-align: top;\n",
       "    }\n",
       "\n",
       "    .dataframe thead th {\n",
       "        text-align: right;\n",
       "    }\n",
       "</style>\n",
       "<table border=\"1\" class=\"dataframe\">\n",
       "  <thead>\n",
       "    <tr style=\"text-align: right;\">\n",
       "      <th></th>\n",
       "      <th>iso</th>\n",
       "      <th>start_date</th>\n",
       "      <th>value1</th>\n",
       "      <th>value2</th>\n",
       "      <th>value3</th>\n",
       "      <th>value4</th>\n",
       "      <th>value5</th>\n",
       "    </tr>\n",
       "  </thead>\n",
       "  <tbody>\n",
       "    <tr>\n",
       "      <th>0</th>\n",
       "      <td>US</td>\n",
       "      <td>2022-07-14</td>\n",
       "      <td>10</td>\n",
       "      <td>100</td>\n",
       "      <td>15</td>\n",
       "      <td>150</td>\n",
       "      <td>20</td>\n",
       "    </tr>\n",
       "    <tr>\n",
       "      <th>1</th>\n",
       "      <td>US</td>\n",
       "      <td>2023-11-30</td>\n",
       "      <td>30</td>\n",
       "      <td>300</td>\n",
       "      <td>35</td>\n",
       "      <td>350</td>\n",
       "      <td>40</td>\n",
       "    </tr>\n",
       "    <tr>\n",
       "      <th>2</th>\n",
       "      <td>UK</td>\n",
       "      <td>2022-07-14</td>\n",
       "      <td>50</td>\n",
       "      <td>500</td>\n",
       "      <td>55</td>\n",
       "      <td>550</td>\n",
       "      <td>60</td>\n",
       "    </tr>\n",
       "    <tr>\n",
       "      <th>3</th>\n",
       "      <td>UK</td>\n",
       "      <td>2023-11-30</td>\n",
       "      <td>70</td>\n",
       "      <td>700</td>\n",
       "      <td>75</td>\n",
       "      <td>750</td>\n",
       "      <td>80</td>\n",
       "    </tr>\n",
       "  </tbody>\n",
       "</table>\n",
       "</div>"
      ],
      "text/plain": [
       "  iso  start_date  value1  value2  value3  value4  value5\n",
       "0  US  2022-07-14      10     100      15     150      20\n",
       "1  US  2023-11-30      30     300      35     350      40\n",
       "2  UK  2022-07-14      50     500      55     550      60\n",
       "3  UK  2023-11-30      70     700      75     750      80"
      ]
     },
     "execution_count": 25,
     "metadata": {},
     "output_type": "execute_result"
    }
   ],
   "source": [
    "import pandas as pd\n",
    "\n",
    "# Sample dataframe\n",
    "data = {\n",
    "    'iso': ['US', 'US', 'UK', 'UK'],\n",
    "    'start_date': ['2022-07-14', '2023-11-30', '2022-07-14', '2023-11-30'],\n",
    "    'value1': [10, 30, 50, 70],\n",
    "    'value2': [100, 300, 500, 700],\n",
    "    'value3': [15, 35, 55, 75],\n",
    "    'value4': [150, 350, 550, 750],\n",
    "    'value5': [20, 40, 60, 80]\n",
    "}\n",
    "df = pd.DataFrame(data)\n",
    "\n",
    "# Melting the dataframe to long format\n",
    "df_long = pd.melt(df, id_vars=['iso', 'start_date'], value_vars=['value1', 'value2', 'value3', 'value4', 'value5'])\n",
    "\n",
    "# Pivoting the dataframe\n",
    "df_wide = df_long.pivot_table(index='iso', columns=['start_date', 'variable'], values='value').reset_index()\n",
    "\n",
    "# Flattening the MultiIndex in columns\n",
    "df_wide.columns = [f'{col[1]}_{col[0]}' if col[1] else col[0] for col in df_wide.columns]\n",
    "\n",
    "df"
   ]
  },
  {
   "cell_type": "code",
   "execution_count": 18,
   "metadata": {},
   "outputs": [
    {
     "ename": "ValueError",
     "evalue": "The name iso3_country occurs multiple times, use a level number",
     "output_type": "error",
     "traceback": [
      "\u001b[1;31m---------------------------------------------------------------------------\u001b[0m",
      "\u001b[1;31mValueError\u001b[0m                                Traceback (most recent call last)",
      "Cell \u001b[1;32mIn[18], line 2\u001b[0m\n\u001b[0;32m      1\u001b[0m test_long \u001b[38;5;241m=\u001b[39m new_prod\u001b[38;5;241m.\u001b[39mmelt(id_vars\u001b[38;5;241m=\u001b[39m[\u001b[38;5;124m'\u001b[39m\u001b[38;5;124miso3_country\u001b[39m\u001b[38;5;124m'\u001b[39m,\u001b[38;5;124m'\u001b[39m\u001b[38;5;124mstart_date\u001b[39m\u001b[38;5;124m'\u001b[39m],value_vars\u001b[38;5;241m=\u001b[39m[\u001b[38;5;124m'\u001b[39m\u001b[38;5;124mCO2_emissions_tonnes\u001b[39m\u001b[38;5;124m'\u001b[39m,\u001b[38;5;124m'\u001b[39m\u001b[38;5;124mCH4_emissions_tonnes\u001b[39m\u001b[38;5;124m'\u001b[39m])\n\u001b[1;32m----> 2\u001b[0m test_long\u001b[38;5;241m.\u001b[39mpivot(index\u001b[38;5;241m=\u001b[39m\u001b[38;5;124m'\u001b[39m\u001b[38;5;124miso3_country\u001b[39m\u001b[38;5;124m'\u001b[39m,columns\u001b[38;5;241m=\u001b[39m[\u001b[38;5;124m'\u001b[39m\u001b[38;5;124mstart_date\u001b[39m\u001b[38;5;124m'\u001b[39m,\u001b[38;5;124m'\u001b[39m\u001b[38;5;124miso3_country\u001b[39m\u001b[38;5;124m'\u001b[39m],values\u001b[38;5;241m=\u001b[39m\u001b[38;5;124m'\u001b[39m\u001b[38;5;124mvalue\u001b[39m\u001b[38;5;124m'\u001b[39m)\n",
      "File \u001b[1;32mc:\\Users\\jmsta\\anaconda3\\Lib\\site-packages\\pandas\\core\\frame.py:9339\u001b[0m, in \u001b[0;36mDataFrame.pivot\u001b[1;34m(self, columns, index, values)\u001b[0m\n\u001b[0;32m   9332\u001b[0m \u001b[38;5;129m@Substitution\u001b[39m(\u001b[38;5;124m\"\u001b[39m\u001b[38;5;124m\"\u001b[39m)\n\u001b[0;32m   9333\u001b[0m \u001b[38;5;129m@Appender\u001b[39m(_shared_docs[\u001b[38;5;124m\"\u001b[39m\u001b[38;5;124mpivot\u001b[39m\u001b[38;5;124m\"\u001b[39m])\n\u001b[0;32m   9334\u001b[0m \u001b[38;5;28;01mdef\u001b[39;00m \u001b[38;5;21mpivot\u001b[39m(\n\u001b[0;32m   9335\u001b[0m     \u001b[38;5;28mself\u001b[39m, \u001b[38;5;241m*\u001b[39m, columns, index\u001b[38;5;241m=\u001b[39mlib\u001b[38;5;241m.\u001b[39mno_default, values\u001b[38;5;241m=\u001b[39mlib\u001b[38;5;241m.\u001b[39mno_default\n\u001b[0;32m   9336\u001b[0m ) \u001b[38;5;241m-\u001b[39m\u001b[38;5;241m>\u001b[39m DataFrame:\n\u001b[0;32m   9337\u001b[0m     \u001b[38;5;28;01mfrom\u001b[39;00m \u001b[38;5;21;01mpandas\u001b[39;00m\u001b[38;5;21;01m.\u001b[39;00m\u001b[38;5;21;01mcore\u001b[39;00m\u001b[38;5;21;01m.\u001b[39;00m\u001b[38;5;21;01mreshape\u001b[39;00m\u001b[38;5;21;01m.\u001b[39;00m\u001b[38;5;21;01mpivot\u001b[39;00m \u001b[38;5;28;01mimport\u001b[39;00m pivot\n\u001b[1;32m-> 9339\u001b[0m     \u001b[38;5;28;01mreturn\u001b[39;00m pivot(\u001b[38;5;28mself\u001b[39m, index\u001b[38;5;241m=\u001b[39mindex, columns\u001b[38;5;241m=\u001b[39mcolumns, values\u001b[38;5;241m=\u001b[39mvalues)\n",
      "File \u001b[1;32mc:\\Users\\jmsta\\anaconda3\\Lib\\site-packages\\pandas\\core\\reshape\\pivot.py:570\u001b[0m, in \u001b[0;36mpivot\u001b[1;34m(data, columns, index, values)\u001b[0m\n\u001b[0;32m    566\u001b[0m         indexed \u001b[38;5;241m=\u001b[39m data\u001b[38;5;241m.\u001b[39m_constructor_sliced(data[values]\u001b[38;5;241m.\u001b[39m_values, index\u001b[38;5;241m=\u001b[39mmultiindex)\n\u001b[0;32m    567\u001b[0m \u001b[38;5;66;03m# error: Argument 1 to \"unstack\" of \"DataFrame\" has incompatible type \"Union\u001b[39;00m\n\u001b[0;32m    568\u001b[0m \u001b[38;5;66;03m# [List[Any], ExtensionArray, ndarray[Any, Any], Index, Series]\"; expected\u001b[39;00m\n\u001b[0;32m    569\u001b[0m \u001b[38;5;66;03m# \"Hashable\"\u001b[39;00m\n\u001b[1;32m--> 570\u001b[0m result \u001b[38;5;241m=\u001b[39m indexed\u001b[38;5;241m.\u001b[39munstack(columns_listlike)  \u001b[38;5;66;03m# type: ignore[arg-type]\u001b[39;00m\n\u001b[0;32m    571\u001b[0m result\u001b[38;5;241m.\u001b[39mindex\u001b[38;5;241m.\u001b[39mnames \u001b[38;5;241m=\u001b[39m [\n\u001b[0;32m    572\u001b[0m     name \u001b[38;5;28;01mif\u001b[39;00m name \u001b[38;5;129;01mis\u001b[39;00m \u001b[38;5;129;01mnot\u001b[39;00m lib\u001b[38;5;241m.\u001b[39mno_default \u001b[38;5;28;01melse\u001b[39;00m \u001b[38;5;28;01mNone\u001b[39;00m \u001b[38;5;28;01mfor\u001b[39;00m name \u001b[38;5;129;01min\u001b[39;00m result\u001b[38;5;241m.\u001b[39mindex\u001b[38;5;241m.\u001b[39mnames\n\u001b[0;32m    573\u001b[0m ]\n\u001b[0;32m    575\u001b[0m \u001b[38;5;28;01mreturn\u001b[39;00m result\n",
      "File \u001b[1;32mc:\\Users\\jmsta\\anaconda3\\Lib\\site-packages\\pandas\\core\\series.py:4615\u001b[0m, in \u001b[0;36mSeries.unstack\u001b[1;34m(self, level, fill_value, sort)\u001b[0m\n\u001b[0;32m   4570\u001b[0m \u001b[38;5;250m\u001b[39m\u001b[38;5;124;03m\"\"\"\u001b[39;00m\n\u001b[0;32m   4571\u001b[0m \u001b[38;5;124;03mUnstack, also known as pivot, Series with MultiIndex to produce DataFrame.\u001b[39;00m\n\u001b[0;32m   4572\u001b[0m \n\u001b[1;32m   (...)\u001b[0m\n\u001b[0;32m   4611\u001b[0m \u001b[38;5;124;03mb    2    4\u001b[39;00m\n\u001b[0;32m   4612\u001b[0m \u001b[38;5;124;03m\"\"\"\u001b[39;00m\n\u001b[0;32m   4613\u001b[0m \u001b[38;5;28;01mfrom\u001b[39;00m \u001b[38;5;21;01mpandas\u001b[39;00m\u001b[38;5;21;01m.\u001b[39;00m\u001b[38;5;21;01mcore\u001b[39;00m\u001b[38;5;21;01m.\u001b[39;00m\u001b[38;5;21;01mreshape\u001b[39;00m\u001b[38;5;21;01m.\u001b[39;00m\u001b[38;5;21;01mreshape\u001b[39;00m \u001b[38;5;28;01mimport\u001b[39;00m unstack\n\u001b[1;32m-> 4615\u001b[0m \u001b[38;5;28;01mreturn\u001b[39;00m unstack(\u001b[38;5;28mself\u001b[39m, level, fill_value, sort)\n",
      "File \u001b[1;32mc:\\Users\\jmsta\\anaconda3\\Lib\\site-packages\\pandas\\core\\reshape\\reshape.py:494\u001b[0m, in \u001b[0;36munstack\u001b[1;34m(obj, level, fill_value, sort)\u001b[0m\n\u001b[0;32m    490\u001b[0m \u001b[38;5;28;01mif\u001b[39;00m \u001b[38;5;28misinstance\u001b[39m(level, (\u001b[38;5;28mtuple\u001b[39m, \u001b[38;5;28mlist\u001b[39m)):\n\u001b[0;32m    491\u001b[0m     \u001b[38;5;28;01mif\u001b[39;00m \u001b[38;5;28mlen\u001b[39m(level) \u001b[38;5;241m!=\u001b[39m \u001b[38;5;241m1\u001b[39m:\n\u001b[0;32m    492\u001b[0m         \u001b[38;5;66;03m# _unstack_multiple only handles MultiIndexes,\u001b[39;00m\n\u001b[0;32m    493\u001b[0m         \u001b[38;5;66;03m# and isn't needed for a single level\u001b[39;00m\n\u001b[1;32m--> 494\u001b[0m         \u001b[38;5;28;01mreturn\u001b[39;00m _unstack_multiple(obj, level, fill_value\u001b[38;5;241m=\u001b[39mfill_value, sort\u001b[38;5;241m=\u001b[39msort)\n\u001b[0;32m    495\u001b[0m     \u001b[38;5;28;01melse\u001b[39;00m:\n\u001b[0;32m    496\u001b[0m         level \u001b[38;5;241m=\u001b[39m level[\u001b[38;5;241m0\u001b[39m]\n",
      "File \u001b[1;32mc:\\Users\\jmsta\\anaconda3\\Lib\\site-packages\\pandas\\core\\reshape\\reshape.py:413\u001b[0m, in \u001b[0;36m_unstack_multiple\u001b[1;34m(data, clocs, fill_value, sort)\u001b[0m\n\u001b[0;32m    411\u001b[0m \u001b[38;5;28;01mif\u001b[39;00m clocs \u001b[38;5;129;01min\u001b[39;00m index\u001b[38;5;241m.\u001b[39mnames:\n\u001b[0;32m    412\u001b[0m     clocs \u001b[38;5;241m=\u001b[39m [clocs]\n\u001b[1;32m--> 413\u001b[0m clocs \u001b[38;5;241m=\u001b[39m [index\u001b[38;5;241m.\u001b[39m_get_level_number(i) \u001b[38;5;28;01mfor\u001b[39;00m i \u001b[38;5;129;01min\u001b[39;00m clocs]\n\u001b[0;32m    415\u001b[0m rlocs \u001b[38;5;241m=\u001b[39m [i \u001b[38;5;28;01mfor\u001b[39;00m i \u001b[38;5;129;01min\u001b[39;00m \u001b[38;5;28mrange\u001b[39m(index\u001b[38;5;241m.\u001b[39mnlevels) \u001b[38;5;28;01mif\u001b[39;00m i \u001b[38;5;129;01mnot\u001b[39;00m \u001b[38;5;129;01min\u001b[39;00m clocs]\n\u001b[0;32m    417\u001b[0m clevels \u001b[38;5;241m=\u001b[39m [index\u001b[38;5;241m.\u001b[39mlevels[i] \u001b[38;5;28;01mfor\u001b[39;00m i \u001b[38;5;129;01min\u001b[39;00m clocs]\n",
      "File \u001b[1;32mc:\\Users\\jmsta\\anaconda3\\Lib\\site-packages\\pandas\\core\\indexes\\multi.py:1660\u001b[0m, in \u001b[0;36mMultiIndex._get_level_number\u001b[1;34m(self, level)\u001b[0m\n\u001b[0;32m   1658\u001b[0m count \u001b[38;5;241m=\u001b[39m \u001b[38;5;28mself\u001b[39m\u001b[38;5;241m.\u001b[39mnames\u001b[38;5;241m.\u001b[39mcount(level)\n\u001b[0;32m   1659\u001b[0m \u001b[38;5;28;01mif\u001b[39;00m (count \u001b[38;5;241m>\u001b[39m \u001b[38;5;241m1\u001b[39m) \u001b[38;5;129;01mand\u001b[39;00m \u001b[38;5;129;01mnot\u001b[39;00m is_integer(level):\n\u001b[1;32m-> 1660\u001b[0m     \u001b[38;5;28;01mraise\u001b[39;00m \u001b[38;5;167;01mValueError\u001b[39;00m(\n\u001b[0;32m   1661\u001b[0m         \u001b[38;5;124mf\u001b[39m\u001b[38;5;124m\"\u001b[39m\u001b[38;5;124mThe name \u001b[39m\u001b[38;5;132;01m{\u001b[39;00mlevel\u001b[38;5;132;01m}\u001b[39;00m\u001b[38;5;124m occurs multiple times, use a level number\u001b[39m\u001b[38;5;124m\"\u001b[39m\n\u001b[0;32m   1662\u001b[0m     )\n\u001b[0;32m   1663\u001b[0m \u001b[38;5;28;01mtry\u001b[39;00m:\n\u001b[0;32m   1664\u001b[0m     level \u001b[38;5;241m=\u001b[39m \u001b[38;5;28mself\u001b[39m\u001b[38;5;241m.\u001b[39mnames\u001b[38;5;241m.\u001b[39mindex(level)\n",
      "\u001b[1;31mValueError\u001b[0m: The name iso3_country occurs multiple times, use a level number"
     ]
    }
   ],
   "source": [
    "test_long = new_prod.melt(id_vars=['iso3_country','start_date'],value_vars=['CO2_emissions_tonnes','CH4_emissions_tonnes'])\n",
    "test_long.pivot(index='iso3_country',columns=['start_date','iso3_country'],values='value')"
   ]
  },
  {
   "cell_type": "code",
   "execution_count": null,
   "metadata": {},
   "outputs": [],
   "source": [
    "# country aggregated former run\n",
    "\n",
    "\n",
    "trace22 = trace22_in[['iso3_country','end_time','gas','emissions_quantity']]            # restrict to only relevant columns\n",
    "trace22 = trace22[trace22['end_time'].str.contains('2022')].drop(columns=['end_time'])  # keep only items that are from 2022 run and drop time\n",
    "trace22 = trace22[trace22['gas'].isin(['co2','ch4'])]                                   # restrict to only carbon dioxide and methane\n",
    "\n",
    "# pivot table and reset index to mimic other format\n",
    "trace22 = trace22.pivot(                                                                \n",
    "    index='iso3_country', columns='gas', values='emissions_quantity'\n",
    ").reset_index()\n",
    "\n",
    "# give column names for the gases\n",
    "trace22.columns.name = None                                                         \n",
    "trace22 = trace22.rename(columns={\n",
    "    'co2': 'CO2_trace22_total',\n",
    "    'ch4': 'CH4_trace22_total'\n",
    "})\n",
    "\n",
    "trace22 = trace22.replace(0,np.nan)   "
   ]
  },
  {
   "cell_type": "code",
   "execution_count": null,
   "metadata": {},
   "outputs": [],
   "source": [
    "new_prod.set_index('iso3_country', inplace=True)\n",
    "new_trans.set_index('iso3_country', inplace=True)\n",
    "trace22.set_index('iso3_country', inplace=True)\n",
    "\n",
    "# Join dataframes\n",
    "joined = new_prod.join(\n",
    "    new_trans, how='outer',\n",
    "    lsuffix='_prod',rsuffix='_trans').join(\n",
    "        trace22, how='outer')\n",
    "\n",
    "joined.reset_index(inplace=True)"
   ]
  },
  {
   "cell_type": "code",
   "execution_count": null,
   "metadata": {},
   "outputs": [],
   "source": [
    "joined['CO2_trace_new_total'] = joined['CO2_emissions_tonnes_prod'] + joined['CO2_emissions_tonnes_trans']\n",
    "joined['CH4_trace_new_total'] = joined['CH4_emissions_tonnes_prod'] + joined['CH4_emissions_tonnes_trans']\n",
    "\n",
    "merged = joined[\n",
    "    ['iso3_country',\n",
    "     'CO2_emissions_tonnes_prod', 'CO2_emissions_tonnes_trans',\n",
    "     'CH4_emissions_tonnes_prod', 'CH4_emissions_tonnes_trans',\n",
    "     'CO2_trace_new_total', 'CH4_trace_new_total',\n",
    "     'CO2_trace22_total', 'CH4_trace22_total']\n",
    "]\n",
    "\n",
    "world_row = pd.DataFrame([merged.sum()],columns=merged.columns)\n",
    "world_row['iso3_country'] = 'World'\n",
    "merged = pd.concat([merged,world_row], ignore_index=True)"
   ]
  }
 ],
 "metadata": {
  "kernelspec": {
   "display_name": "base",
   "language": "python",
   "name": "python3"
  },
  "language_info": {
   "codemirror_mode": {
    "name": "ipython",
    "version": 3
   },
   "file_extension": ".py",
   "mimetype": "text/x-python",
   "name": "python",
   "nbconvert_exporter": "python",
   "pygments_lexer": "ipython3",
   "version": "3.12.4"
  }
 },
 "nbformat": 4,
 "nbformat_minor": 2
}
