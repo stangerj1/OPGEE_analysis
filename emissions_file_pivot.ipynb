{
 "cells": [
  {
   "cell_type": "code",
   "execution_count": 48,
   "metadata": {},
   "outputs": [],
   "source": [
    "import pandas as pd\n",
    "\n",
    "def pivot_emissions_file(directory,out_name='_transposed'):\n",
    "\n",
    "    df = pd.read_csv(directory)\n",
    "    df = df.set_index('process')\n",
    "    df.columns = [field.split(' ',2)[0] + ' ' + field.split(' ',2)[1] for field in list(df.columns)]\n",
    "    out = directory.rsplit('/', 1)\n",
    "    df.T.to_csv(out[0]+'/'+out[1].rsplit('.',1)[0]+out_name+'.csv')"
   ]
  },
  {
   "cell_type": "code",
   "execution_count": 49,
   "metadata": {},
   "outputs": [],
   "source": [
    "## example usage\n",
    "# pivot_emissions_file(\"../OPGEEv4/opgee/etc/wennan_out/emissions.csv\")"
   ]
  }
 ],
 "metadata": {
  "kernelspec": {
   "display_name": "base",
   "language": "python",
   "name": "python3"
  },
  "language_info": {
   "codemirror_mode": {
    "name": "ipython",
    "version": 3
   },
   "file_extension": ".py",
   "mimetype": "text/x-python",
   "name": "python",
   "nbconvert_exporter": "python",
   "pygments_lexer": "ipython3",
   "version": "3.12.4"
  }
 },
 "nbformat": 4,
 "nbformat_minor": 2
}
